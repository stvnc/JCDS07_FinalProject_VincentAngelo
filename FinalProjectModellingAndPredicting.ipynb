{
 "cells": [
  {
   "cell_type": "code",
   "execution_count": 1,
   "metadata": {},
   "outputs": [],
   "source": [
    "import pandas as pd\n",
    "import numpy as np\n",
    "\n",
    "from sklearn.preprocessing import StandardScaler\n",
    "from sklearn.model_selection import train_test_split, cross_val_score, RandomizedSearchCV, GridSearchCV\n",
    "from sklearn.neighbors import KNeighborsClassifier as KNN\n",
    "from sklearn.ensemble import RandomForestClassifier, RandomForestRegressor, GradientBoostingRegressor\n",
    "from sklearn.linear_model import LogisticRegression, LinearRegression\n",
    "import statsmodels.api as sm\n",
    "from statsmodels.api import OLS\n",
    "\n",
    "from sklearn.metrics import balanced_accuracy_score\n",
    "from sklearn.metrics import f1_score\n",
    "from sklearn.metrics import precision_score\n",
    "from sklearn.metrics import recall_score\n",
    "from sklearn.metrics import roc_auc_score\n",
    "\n",
    "from sklearn.metrics import mean_absolute_error\n",
    "from sklearn.metrics import mean_squared_log_error\n",
    "from sklearn.metrics import r2_score\n",
    "\n",
    "from sklearn.model_selection import RandomizedSearchCV as RSCV"
   ]
  },
  {
   "cell_type": "code",
   "execution_count": 2,
   "metadata": {},
   "outputs": [
    {
     "data": {
      "text/html": [
       "<div>\n",
       "<style scoped>\n",
       "    .dataframe tbody tr th:only-of-type {\n",
       "        vertical-align: middle;\n",
       "    }\n",
       "\n",
       "    .dataframe tbody tr th {\n",
       "        vertical-align: top;\n",
       "    }\n",
       "\n",
       "    .dataframe thead th {\n",
       "        text-align: right;\n",
       "    }\n",
       "</style>\n",
       "<table border=\"1\" class=\"dataframe\">\n",
       "  <thead>\n",
       "    <tr style=\"text-align: right;\">\n",
       "      <th></th>\n",
       "      <th>Unnamed: 0</th>\n",
       "      <th>state</th>\n",
       "      <th>backers</th>\n",
       "      <th>usd_pledged_real</th>\n",
       "      <th>usd_goal_real</th>\n",
       "      <th>duration</th>\n",
       "      <th>Art</th>\n",
       "      <th>Comics</th>\n",
       "      <th>Crafts</th>\n",
       "      <th>Dance</th>\n",
       "      <th>...</th>\n",
       "      <th>Film &amp; Video</th>\n",
       "      <th>Food</th>\n",
       "      <th>Games</th>\n",
       "      <th>Journalism</th>\n",
       "      <th>Music</th>\n",
       "      <th>Photography</th>\n",
       "      <th>Publishing</th>\n",
       "      <th>Technology</th>\n",
       "      <th>Theater</th>\n",
       "      <th>encoded_state</th>\n",
       "    </tr>\n",
       "  </thead>\n",
       "  <tbody>\n",
       "    <tr>\n",
       "      <th>0</th>\n",
       "      <td>0</td>\n",
       "      <td>failed</td>\n",
       "      <td>0.0</td>\n",
       "      <td>0.0</td>\n",
       "      <td>1533.95</td>\n",
       "      <td>59</td>\n",
       "      <td>0</td>\n",
       "      <td>0</td>\n",
       "      <td>0</td>\n",
       "      <td>0</td>\n",
       "      <td>...</td>\n",
       "      <td>0</td>\n",
       "      <td>0</td>\n",
       "      <td>0</td>\n",
       "      <td>0</td>\n",
       "      <td>0</td>\n",
       "      <td>0</td>\n",
       "      <td>1</td>\n",
       "      <td>0</td>\n",
       "      <td>0</td>\n",
       "      <td>1</td>\n",
       "    </tr>\n",
       "    <tr>\n",
       "      <th>1</th>\n",
       "      <td>1</td>\n",
       "      <td>failed</td>\n",
       "      <td>15.0</td>\n",
       "      <td>2421.0</td>\n",
       "      <td>30000.00</td>\n",
       "      <td>60</td>\n",
       "      <td>0</td>\n",
       "      <td>0</td>\n",
       "      <td>0</td>\n",
       "      <td>0</td>\n",
       "      <td>...</td>\n",
       "      <td>1</td>\n",
       "      <td>0</td>\n",
       "      <td>0</td>\n",
       "      <td>0</td>\n",
       "      <td>0</td>\n",
       "      <td>0</td>\n",
       "      <td>0</td>\n",
       "      <td>0</td>\n",
       "      <td>0</td>\n",
       "      <td>1</td>\n",
       "    </tr>\n",
       "    <tr>\n",
       "      <th>2</th>\n",
       "      <td>2</td>\n",
       "      <td>failed</td>\n",
       "      <td>3.0</td>\n",
       "      <td>220.0</td>\n",
       "      <td>45000.00</td>\n",
       "      <td>45</td>\n",
       "      <td>0</td>\n",
       "      <td>0</td>\n",
       "      <td>0</td>\n",
       "      <td>0</td>\n",
       "      <td>...</td>\n",
       "      <td>1</td>\n",
       "      <td>0</td>\n",
       "      <td>0</td>\n",
       "      <td>0</td>\n",
       "      <td>0</td>\n",
       "      <td>0</td>\n",
       "      <td>0</td>\n",
       "      <td>0</td>\n",
       "      <td>0</td>\n",
       "      <td>1</td>\n",
       "    </tr>\n",
       "    <tr>\n",
       "      <th>3</th>\n",
       "      <td>3</td>\n",
       "      <td>failed</td>\n",
       "      <td>1.0</td>\n",
       "      <td>1.0</td>\n",
       "      <td>5000.00</td>\n",
       "      <td>30</td>\n",
       "      <td>0</td>\n",
       "      <td>0</td>\n",
       "      <td>0</td>\n",
       "      <td>0</td>\n",
       "      <td>...</td>\n",
       "      <td>0</td>\n",
       "      <td>0</td>\n",
       "      <td>0</td>\n",
       "      <td>0</td>\n",
       "      <td>1</td>\n",
       "      <td>0</td>\n",
       "      <td>0</td>\n",
       "      <td>0</td>\n",
       "      <td>0</td>\n",
       "      <td>1</td>\n",
       "    </tr>\n",
       "    <tr>\n",
       "      <th>4</th>\n",
       "      <td>4</td>\n",
       "      <td>canceled</td>\n",
       "      <td>14.0</td>\n",
       "      <td>1283.0</td>\n",
       "      <td>19500.00</td>\n",
       "      <td>56</td>\n",
       "      <td>0</td>\n",
       "      <td>0</td>\n",
       "      <td>0</td>\n",
       "      <td>0</td>\n",
       "      <td>...</td>\n",
       "      <td>1</td>\n",
       "      <td>0</td>\n",
       "      <td>0</td>\n",
       "      <td>0</td>\n",
       "      <td>0</td>\n",
       "      <td>0</td>\n",
       "      <td>0</td>\n",
       "      <td>0</td>\n",
       "      <td>0</td>\n",
       "      <td>0</td>\n",
       "    </tr>\n",
       "  </tbody>\n",
       "</table>\n",
       "<p>5 rows × 22 columns</p>\n",
       "</div>"
      ],
      "text/plain": [
       "   Unnamed: 0     state  backers  usd_pledged_real  usd_goal_real  duration  \\\n",
       "0           0    failed      0.0               0.0        1533.95        59   \n",
       "1           1    failed     15.0            2421.0       30000.00        60   \n",
       "2           2    failed      3.0             220.0       45000.00        45   \n",
       "3           3    failed      1.0               1.0        5000.00        30   \n",
       "4           4  canceled     14.0            1283.0       19500.00        56   \n",
       "\n",
       "   Art  Comics  Crafts  Dance  ...  Film & Video  Food  Games  Journalism  \\\n",
       "0    0       0       0      0  ...             0     0      0           0   \n",
       "1    0       0       0      0  ...             1     0      0           0   \n",
       "2    0       0       0      0  ...             1     0      0           0   \n",
       "3    0       0       0      0  ...             0     0      0           0   \n",
       "4    0       0       0      0  ...             1     0      0           0   \n",
       "\n",
       "   Music  Photography  Publishing  Technology  Theater  encoded_state  \n",
       "0      0            0           1           0        0              1  \n",
       "1      0            0           0           0        0              1  \n",
       "2      0            0           0           0        0              1  \n",
       "3      1            0           0           0        0              1  \n",
       "4      0            0           0           0        0              0  \n",
       "\n",
       "[5 rows x 22 columns]"
      ]
     },
     "execution_count": 2,
     "metadata": {},
     "output_type": "execute_result"
    }
   ],
   "source": [
    "ksDf = pd.read_csv('cleaned_kickstarter_dataset.csv')\n",
    "ksDf.head()"
   ]
  },
  {
   "cell_type": "code",
   "execution_count": 3,
   "metadata": {},
   "outputs": [],
   "source": [
    "def findClassificationScore(model, paramXTrain, paramYTrain, paramXTest, paramYTest):\n",
    "    model.fit(paramXTrain, paramYTrain)\n",
    "    yPred = model.predict(paramXTest)\n",
    "    print(\"Model: \", model)\n",
    "    print(\"Best Parameters: \", model.best_params_)\n",
    "    print(\"Balanced Accuracy Score: \", balanced_accuracy_score(paramYTest, yPred))\n",
    "    print(\"Precision Score: \", precision_score(paramYTest, yPred, average='macro'))\n",
    "    print(\"Recall: \", recall_score(paramYTest, yPred, average = 'macro'))\n",
    "    print(\"F1 Score: \", f1_score(paramYTest, yPred, average = 'macro'))\n",
    "#     print(\"ROC AUC Score: \", roc_auc_score(paramYTest, yPred))\n",
    "    print(\"First 10 Prediction: \", yPred[:10])\n",
    "    print(\"First 10 Actual: \", paramYTest[:10])\n",
    "    print(\"\")"
   ]
  },
  {
   "cell_type": "code",
   "execution_count": 4,
   "metadata": {},
   "outputs": [],
   "source": [
    "def findRegressorScore(model, paramXTrain, paramYTrain, paramXTest, paramYTest):\n",
    "    model.fit(paramXTrain, paramYTrain)\n",
    "    yPred = model.predict(paramXTest)\n",
    "    print(\"Model: \", model)\n",
    "    print(\"Best Parameters: \", model.best_params_)\n",
    "    print(\"Model Score: \", model.score(paramXTest, paramYTest))\n",
    "    print(\"Mean Absolute Error: \", mean_absolute_error(paramYTest, yPred))\n",
    "    print(\"Mean Squared Log Error: \", mean_squared_log_error(paramYTest, yPred))\n",
    "    print(\"R2 Score: \", r2_score(paramYTest, yPred, multiclass = \"ovr\"))\n",
    "    print(\"First 10 Prediction: \", yPred[:10])\n",
    "    print(\"First 10 Actual: \", paramYTest[:10])\n",
    "    print(\"\")"
   ]
  },
  {
   "cell_type": "code",
   "execution_count": 5,
   "metadata": {},
   "outputs": [],
   "source": [
    "cpDf = ksDf.copy()\n",
    "x = np.array(cpDf.drop(['state', 'encoded_state'], axis = 1))\n",
    "y = np.array(ksDf['encoded_state'])"
   ]
  },
  {
   "cell_type": "code",
   "execution_count": 6,
   "metadata": {},
   "outputs": [],
   "source": [
    "xtr, xts, ytr, yts = train_test_split(x, y, test_size = .1)"
   ]
  },
  {
   "cell_type": "markdown",
   "metadata": {},
   "source": [
    "### Params for Linear Regression"
   ]
  },
  {
   "cell_type": "code",
   "execution_count": 7,
   "metadata": {},
   "outputs": [],
   "source": [
    "copy_X = [\"True\", \"False\"]\n",
    "fit_intercept = [\"True\", \"False\"]\n",
    "n_jobs = [\"int\", \"None\"]\n",
    "normalize = [\"True\", \"False\"]\n",
    "\n",
    "paramLire = {\n",
    "    \"copy_X\": copy_X,\n",
    "    \"fit_intercept\": fit_intercept,\n",
    "    \"n_jobs\" : n_jobs,\n",
    "    \"normalize\" : normalize\n",
    "}\n",
    "\n",
    "lire = LinearRegression()\n",
    "modelLire = RSCV(estimator=lire, param_distributions=paramLire, n_iter=100,\n",
    "                               cv=5, verbose=2, random_state=41, n_jobs=-1)"
   ]
  },
  {
   "cell_type": "markdown",
   "metadata": {},
   "source": [
    "### Params for Gradient Boosting Regressor"
   ]
  },
  {
   "cell_type": "code",
   "execution_count": 8,
   "metadata": {},
   "outputs": [],
   "source": [
    "alpha = np.linspace(0.1,1,10)\n",
    "learning_rate = np.arange(0,0.5,0.1)\n",
    "loss = ['ls', 'lad', 'huber', 'quantile']\n",
    "max_depth = [3, 4, 5, 6, 8, 10, 12, 15]\n",
    "max_features = ['auto', 'sqrt', 'log2']\n",
    "max_leaf_nodes = [10,20,30,40,50,60,70,None]\n",
    "min_samples_leaf = [1,2,3,4,5,6,7,8]\n",
    "min_samples_split = [2,4,6,8,10,12]\n",
    "n_estimators = np.arange(100,201,10)\n",
    "subsample = np.linspace(0.5,1,6)\n",
    "validation_fraction = np.linspace(0,1,10)\n",
    "warm_start = [True, False]\n",
    "\n",
    "\n",
    "paramGBR = {\n",
    "    \"alpha\": alpha,\n",
    "    \"learning_rate\": learning_rate,\n",
    "    \"loss\" : loss,\n",
    "    \"max_depth\" : max_depth,\n",
    "    \"max_features\" : max_features,\n",
    "    \"max_leaf_nodes\" : max_leaf_nodes,\n",
    "    \"min_samples_leaf\" : min_samples_leaf,\n",
    "    \"min_samples_split\" : min_samples_split,\n",
    "    \"n_estimators\" : n_estimators,\n",
    "    \"subsample\" : subsample,\n",
    "    \"validation_fraction\" : validation_fraction,\n",
    "    \"warm_start\" : warm_start\n",
    "}\n",
    "\n",
    "GBR = GradientBoostingRegressor()\n",
    "modelGBR = RSCV(estimator=GBR, param_distributions=paramGBR, n_iter=100,\n",
    "                               cv=5, verbose=2, random_state=41, n_jobs=-1)"
   ]
  },
  {
   "cell_type": "code",
   "execution_count": 9,
   "metadata": {},
   "outputs": [],
   "source": [
    "n_estimators = list(range(10, 100, 5))\n",
    "max_features = ['auto', 'sqrt']\n",
    "max_depth = list(range(10, 200, 10))\n",
    "max_depth.append(None)\n",
    "min_samples_split = [2, 5, 10, 15, 20]\n",
    "min_samples_leaf = [1, 2, 4, 6, 8, 10]\n",
    "bootstrap = [True, False]\n",
    "\n",
    "paramRFR = {\n",
    "    'n_estimators': n_estimators,\n",
    "    'max_features': max_features,\n",
    "    'max_depth': max_depth,\n",
    "    'min_samples_split': min_samples_split,\n",
    "    'min_samples_leaf' : min_samples_leaf,\n",
    "    'bootstrap': bootstrap\n",
    "}\n",
    "\n",
    "RFR = RandomForestRegressor()\n",
    "modelRFR = RSCV(estimator=RFR, param_distributions=paramRFR, n_iter=100,\n",
    "                               cv=5, verbose=2, random_state=41, n_jobs=-1)"
   ]
  },
  {
   "cell_type": "code",
   "execution_count": 10,
   "metadata": {},
   "outputs": [],
   "source": [
    "penalty = [\"l1\", \"l2\", \"elasticnet\", \"none\"]\n",
    "solver = [\"newton-cg\", \"lbfgs\", \"liblinear\", \"sag\", \"saga\"]\n",
    "max_iter = [1, 10, 100, 1000, 10000]\n",
    "\n",
    "paramLore = {\n",
    "    \"penalty\": penalty,\n",
    "    \"solver\": solver,\n",
    "    \"max_iter\" : max_iter\n",
    "}\n",
    "\n",
    "lore = LogisticRegression(multi_class = 'ovr')\n",
    "modelLore = RSCV(estimator= lore, \n",
    "                             param_distributions= paramLore,\n",
    "                             cv= 5)"
   ]
  },
  {
   "cell_type": "code",
   "execution_count": 11,
   "metadata": {},
   "outputs": [
    {
     "name": "stdout",
     "output_type": "stream",
     "text": [
      "577\n"
     ]
    }
   ],
   "source": [
    "k = round(xtr.shape[0] ** .5)\n",
    "if k % 2 == 0:\n",
    "    k+=1\n",
    "    \n",
    "print(k)\n",
    "    \n",
    "n_neighbors = list(range(k-5, k+5))\n",
    "algo = [\"ball_tree\", \"kd_tree\", \"brute\", \"auto\"]\n",
    "\n",
    "paramKNN = {\n",
    "    \"n_neighbors\": n_neighbors,\n",
    "    \"algorithm\": algo\n",
    "}\n",
    "\n",
    "knn = KNN()\n",
    "modelKNN = RSCV(estimator= knn, \n",
    "                             param_distributions= paramKNN, \n",
    "                             cv= 5)"
   ]
  },
  {
   "cell_type": "code",
   "execution_count": 12,
   "metadata": {},
   "outputs": [],
   "source": [
    "n_estimators = list(range(10, 100, 5))\n",
    "max_features = ['auto', 'sqrt']\n",
    "min_samples_split = [2, 5, 10]\n",
    "min_samples_leaf = [1, 2, 4]\n",
    "bootstrap = [True, False]\n",
    "\n",
    "paramRFC = {'n_estimators': n_estimators,\n",
    "               'max_features': max_features,\n",
    "               'min_samples_split': min_samples_split,\n",
    "               'min_samples_leaf': min_samples_leaf,\n",
    "               'bootstrap': bootstrap}\n",
    "\n",
    "RFC = RandomForestClassifier()\n",
    "modelRFC = RSCV(estimator= RFC, \n",
    "                             param_distributions= paramRFC, \n",
    "                             cv= 5)"
   ]
  },
  {
   "cell_type": "code",
   "execution_count": 13,
   "metadata": {},
   "outputs": [],
   "source": [
    "classificationModel = [modelLore, modelKNN, modelRFC]\n",
    "regressorModel = [modelRFR, modelGBR, modelLire]"
   ]
  },
  {
   "cell_type": "code",
   "execution_count": 14,
   "metadata": {
    "scrolled": false
   },
   "outputs": [],
   "source": [
    "# # for i in classificationModel:\n",
    "#     findClassificationScore(i, xtr, ytr, xts, yts)"
   ]
  },
  {
   "cell_type": "code",
   "execution_count": 15,
   "metadata": {},
   "outputs": [
    {
     "data": {
      "text/plain": [
       "<bound method BaseEstimator.get_params of RandomizedSearchCV(cv=5, error_score=nan,\n",
       "                   estimator=LogisticRegression(C=1.0, class_weight=None,\n",
       "                                                dual=False, fit_intercept=True,\n",
       "                                                intercept_scaling=1,\n",
       "                                                l1_ratio=None, max_iter=100,\n",
       "                                                multi_class='ovr', n_jobs=None,\n",
       "                                                penalty='l2', random_state=None,\n",
       "                                                solver='lbfgs', tol=0.0001,\n",
       "                                                verbose=0, warm_start=False),\n",
       "                   iid='deprecated', n_iter=10, n_jobs=None,\n",
       "                   param_distributions={'max_iter': [1, 10, 100, 1000, 10000],\n",
       "                                        'penalty': ['l1', 'l2', 'elasticnet',\n",
       "                                                    'none'],\n",
       "                                        'solver': ['newton-cg', 'lbfgs',\n",
       "                                                   'liblinear', 'sag',\n",
       "                                                   'saga']},\n",
       "                   pre_dispatch='2*n_jobs', random_state=None, refit=True,\n",
       "                   return_train_score=False, scoring=None, verbose=0)>"
      ]
     },
     "execution_count": 15,
     "metadata": {},
     "output_type": "execute_result"
    }
   ],
   "source": [
    "modelLore.get_params"
   ]
  },
  {
   "cell_type": "code",
   "execution_count": null,
   "metadata": {
    "scrolled": false
   },
   "outputs": [],
   "source": [
    "findClassificationScore(modelRFC, xtr, ytr, xts, yts)"
   ]
  },
  {
   "cell_type": "code",
   "execution_count": null,
   "metadata": {},
   "outputs": [],
   "source": [
    "modelKNN.get_params().keys()"
   ]
  },
  {
   "cell_type": "code",
   "execution_count": null,
   "metadata": {},
   "outputs": [],
   "source": []
  }
 ],
 "metadata": {
  "kernelspec": {
   "display_name": "Python 3",
   "language": "python",
   "name": "python3"
  },
  "language_info": {
   "codemirror_mode": {
    "name": "ipython",
    "version": 3
   },
   "file_extension": ".py",
   "mimetype": "text/x-python",
   "name": "python",
   "nbconvert_exporter": "python",
   "pygments_lexer": "ipython3",
   "version": "3.7.6"
  }
 },
 "nbformat": 4,
 "nbformat_minor": 2
}
